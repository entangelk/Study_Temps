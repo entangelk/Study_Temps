{
  "nbformat": 4,
  "nbformat_minor": 0,
  "metadata": {
    "colab": {
      "provenance": [],
      "authorship_tag": "ABX9TyMY/1Cy53ldLmWWJygvRhdN",
      "include_colab_link": true
    },
    "kernelspec": {
      "name": "python3",
      "display_name": "Python 3"
    },
    "language_info": {
      "name": "python"
    }
  },
  "cells": [
    {
      "cell_type": "markdown",
      "metadata": {
        "id": "view-in-github",
        "colab_type": "text"
      },
      "source": [
        "<a href=\"https://colab.research.google.com/github/entangelk/Study_Temps/blob/main/initial_yohan.ipynb\" target=\"_parent\"><img src=\"https://colab.research.google.com/assets/colab-badge.svg\" alt=\"Open In Colab\"/></a>"
      ]
    },
    {
      "cell_type": "code",
      "source": [
        "print('github')"
      ],
      "metadata": {
        "colab": {
          "base_uri": "https://localhost:8080/"
        },
        "id": "uZirZxblGf2_",
        "outputId": "b2422169-3a53-40fe-8f2d-178207b4d305"
      },
      "execution_count": 1,
      "outputs": [
        {
          "output_type": "stream",
          "name": "stdout",
          "text": [
            "github\n"
          ]
        }
      ]
    },
    {
      "cell_type": "code",
      "execution_count": null,
      "metadata": {
        "colab": {
          "base_uri": "https://localhost:8080/"
        },
        "id": "Wh7b4_DxjkUh",
        "outputId": "47373df0-0a6c-4ed6-da8e-1a4355263934"
      },
      "outputs": [
        {
          "output_type": "stream",
          "name": "stdout",
          "text": [
            "안녕하세요. 첫 개발 시작입니다.\n"
          ]
        }
      ],
      "source": [
        "# 여긴 화면 출력 명령어\n",
        "'''여긴 화면 출력 명령어'''\n",
        "print('안녕하세요. 첫 개발 시작입니다.') #안녕출력"
      ]
    },
    {
      "cell_type": "code",
      "source": [
        "#q1 문자출력\n",
        "print('박요한은 데이터 엔지니어 양성과정을 듣습니다.')"
      ],
      "metadata": {
        "colab": {
          "base_uri": "https://localhost:8080/"
        },
        "id": "oPpdQ9nioRho",
        "outputId": "895081ab-3da0-448c-fbd0-67e645c6aaac"
      },
      "execution_count": null,
      "outputs": [
        {
          "output_type": "stream",
          "name": "stdout",
          "text": [
            "박요한은 데이터 엔지니어 양성과정을 듣습니다.\n"
          ]
        }
      ]
    },
    {
      "cell_type": "code",
      "source": [
        "# 문자화된 숫자 출력 with 상수\n",
        "print('4 + 5')"
      ],
      "metadata": {
        "colab": {
          "base_uri": "https://localhost:8080/"
        },
        "id": "NsJ3prqTtkUH",
        "outputId": "0bfe424d-6cac-44d6-fc8f-1d7c901d0563"
      },
      "execution_count": null,
      "outputs": [
        {
          "output_type": "stream",
          "name": "stdout",
          "text": [
            "4 + 5\n"
          ]
        }
      ]
    },
    {
      "cell_type": "code",
      "source": [
        "#계산 결과 출력 with 상수\n",
        "print(4+5)"
      ],
      "metadata": {
        "colab": {
          "base_uri": "https://localhost:8080/"
        },
        "id": "SilQ3hpwuZ0X",
        "outputId": "b14928f7-5722-4841-98b7-ec96783af7e4"
      },
      "execution_count": null,
      "outputs": [
        {
          "output_type": "stream",
          "name": "stdout",
          "text": [
            "9\n"
          ]
        }
      ]
    },
    {
      "cell_type": "code",
      "source": [
        "# 문자 변수 활용\n",
        "numberwithval = '4 + 5'\n",
        "print(numberwithval)"
      ],
      "metadata": {
        "colab": {
          "base_uri": "https://localhost:8080/"
        },
        "id": "qPiKewfRxP5X",
        "outputId": "39dca5c5-ebd8-4ddd-892d-4b6e543ea05e"
      },
      "execution_count": null,
      "outputs": [
        {
          "output_type": "stream",
          "name": "stdout",
          "text": [
            "4 + 5\n"
          ]
        }
      ]
    },
    {
      "cell_type": "code",
      "source": [
        "# 문자 변수 활용2\n",
        "numberwithval = '4 + 5'\n",
        "print(numberwithval)\n",
        "numberwithval = '40 + 50'\n",
        "print(numberwithval)"
      ],
      "metadata": {
        "colab": {
          "base_uri": "https://localhost:8080/"
        },
        "id": "H8yUbY0_0ORI",
        "outputId": "521af0f5-2776-46c3-fdc4-22032f29125b"
      },
      "execution_count": null,
      "outputs": [
        {
          "output_type": "stream",
          "name": "stdout",
          "text": [
            "4 + 5\n",
            "40 + 50\n"
          ]
        }
      ]
    },
    {
      "cell_type": "code",
      "source": [
        "# 숫자화된 변수 출력 with 변수\n",
        "numberwithval = '4 + 5'\n",
        "numbers = numberwithval + ' = 9' # 4 + 5 = 9\n",
        "print(numbers)"
      ],
      "metadata": {
        "colab": {
          "base_uri": "https://localhost:8080/"
        },
        "id": "tENWfXpu1zz4",
        "outputId": "ea633abe-5650-4620-8e27-2ed68628b0e4"
      },
      "execution_count": null,
      "outputs": [
        {
          "output_type": "stream",
          "name": "stdout",
          "text": [
            "4 + 5 = 9\n"
          ]
        }
      ]
    },
    {
      "cell_type": "code",
      "source": [
        "#예제\n",
        "define_number = 10\n",
        "numberwithval = numberwithval + str(define_number)\n",
        "print(numberwithval)"
      ],
      "metadata": {
        "colab": {
          "base_uri": "https://localhost:8080/"
        },
        "id": "8m36jG4M4opX",
        "outputId": "69dc1197-b924-4161-8063-66a9476781ab"
      },
      "execution_count": null,
      "outputs": [
        {
          "output_type": "stream",
          "name": "stdout",
          "text": [
            "4 + 510\n"
          ]
        }
      ]
    },
    {
      "cell_type": "code",
      "source": [
        "# 데이터 타입이 숫자 with 변수\n",
        "result = 4 + 5\n",
        "print(result)"
      ],
      "metadata": {
        "colab": {
          "base_uri": "https://localhost:8080/"
        },
        "id": "_vh5Nk6RBasY",
        "outputId": "55f93f6f-5392-485e-c838-b0a0f955b798"
      },
      "execution_count": null,
      "outputs": [
        {
          "output_type": "stream",
          "name": "stdout",
          "text": [
            "9\n"
          ]
        }
      ]
    },
    {
      "cell_type": "code",
      "source": [
        "# 두 수를 입력 받아 변수에 넣고 결과 출력\n",
        "input = 4\n",
        "inputtwo = 5\n",
        "result = input + inputtwo\n",
        "print(result)"
      ],
      "metadata": {
        "colab": {
          "base_uri": "https://localhost:8080/"
        },
        "id": "8e73q0j9CV4H",
        "outputId": "2fa0b24a-e782-4703-c294-1909abb48dd5"
      },
      "execution_count": null,
      "outputs": [
        {
          "output_type": "stream",
          "name": "stdout",
          "text": [
            "9\n"
          ]
        }
      ]
    },
    {
      "cell_type": "code",
      "source": [
        "# 위에 내용 반복\n",
        "input = 8\n",
        "inputtwo = 9\n",
        "result = input + inputtwo\n",
        "print(result)"
      ],
      "metadata": {
        "colab": {
          "base_uri": "https://localhost:8080/"
        },
        "id": "3V0T8jd2ESrp",
        "outputId": "d3b3d858-b181-4cd6-8878-09984b9560a3"
      },
      "execution_count": null,
      "outputs": [
        {
          "output_type": "stream",
          "name": "stdout",
          "text": [
            "17\n"
          ]
        }
      ]
    },
    {
      "cell_type": "code",
      "source": [
        "# 여긴 화면 출력 명령어\n",
        "'''여긴 화면 출력 명령어'''\n",
        "print('안녕하세요. 첫 개발 시작입니다.') #안녕출력\n",
        "#q1 문자출력\n",
        "print('박요한은 데이터 엔지니어 양성과정을 듣습니다.')\n",
        "#문자화된 숫자 출력 with 상수\n",
        "print('4 + 5')\n",
        "#계산 결과 출력 with 상수\n",
        "print(4+5)\n",
        "# 문자 변수 활용\n",
        "numberwithval = '4 + 5'\n",
        "print(numberwithval)\n",
        "# 문자 변수 활용2\n",
        "numberwithval = '4 + 5'\n",
        "print(numberwithval)\n",
        "numberwithval = '40 + 50'\n",
        "print(numberwithval)\n",
        "# 숫자화된 변수 출력 with 변수\n",
        "numberwithval = '4 + 5'\n",
        "numbers = numberwithval + ' = 9' # 4 + 5 = 9\n",
        "print(numbers)\n",
        "#예제\n",
        "define_number = 10\n",
        "numberwithval = numberwithval + str(define_number)\n",
        "print(numberwithval)\n",
        "# 데이터 타입이 숫자 with 변수\n",
        "result = 4 + 5\n",
        "print(result)\n",
        "# 두 수를 입력 받아 변수에 넣고 결과 출력\n",
        "input = 4\n",
        "inputtwo = 5\n",
        "result = input + inputtwo\n",
        "print(result)\n",
        "# 위에 내용 반복\n",
        "input = 8\n",
        "inputtwo = 9\n",
        "result = input + inputtwo\n",
        "print(result)"
      ],
      "metadata": {
        "id": "4dVOPYTY3Pvw",
        "outputId": "668fd5ab-b9e0-498a-cde2-a1135e661095",
        "colab": {
          "base_uri": "https://localhost:8080/"
        }
      },
      "execution_count": null,
      "outputs": [
        {
          "output_type": "stream",
          "name": "stdout",
          "text": [
            "안녕하세요. 첫 개발 시작입니다.\n",
            "박요한은 데이터 엔지니어 양성과정을 듣습니다.\n",
            "4 + 5\n",
            "9\n",
            "4 + 5\n",
            "4 + 5\n",
            "40 + 50\n",
            "4 + 5 = 9\n",
            "4 + 510\n",
            "9\n",
            "9\n",
            "17\n"
          ]
        }
      ]
    }
  ]
}